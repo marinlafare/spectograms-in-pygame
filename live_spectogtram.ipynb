{
 "cells": [
  {
   "cell_type": "code",
   "execution_count": 1,
   "id": "6685b75f-5c30-4a2d-8fb0-86bb7489a7c0",
   "metadata": {},
   "outputs": [
    {
     "name": "stdout",
     "output_type": "stream",
     "text": [
      "pygame 2.5.2 (SDL 2.28.3, Python 3.10.14)\n",
      "Hello from the pygame community. https://www.pygame.org/contribute.html\n"
     ]
    }
   ],
   "source": [
    "import pygame\n",
    "import numpy\n",
    "import threading\n",
    "import pyaudio\n",
    "import scipy\n",
    "import scipy.fftpack\n",
    "import scipy.io.wavfile\n",
    "import sys\n",
    "import wave\n",
    "from IPython.display import clear_output"
   ]
  },
  {
   "cell_type": "code",
   "execution_count": null,
   "id": "f711d21b-48d0-4c15-9e7b-b76843b20c18",
   "metadata": {},
   "outputs": [],
   "source": [
    "import sounddevice as sd\n",
    "sd.query_devices()"
   ]
  },
  {
   "cell_type": "code",
   "execution_count": 3,
   "id": "643ea267-af5c-4634-928b-a313a0927f4a",
   "metadata": {},
   "outputs": [],
   "source": [
    "SAMPLE_RATE = 44100  # try 5000 for HD data, 48000 for realtime\n",
    "DEVICE = 1\n",
    "W = 500\n",
    "fftsize = 512\n",
    "currentCol = 0\n",
    "scooter = []\n",
    "overlap = 5  # 1 for raw, realtime - 8 or 16 for high-definition"
   ]
  },
  {
   "cell_type": "code",
   "execution_count": 4,
   "id": "244345ca-fdf7-45fd-a812-9dbd4c68cc0a",
   "metadata": {},
   "outputs": [],
   "source": [
    "log = {}\n",
    "times = 10000"
   ]
  },
  {
   "cell_type": "code",
   "execution_count": 8,
   "id": "946c6176-bd8a-42b3-9d4c-7822cc470353",
   "metadata": {},
   "outputs": [],
   "source": [
    "def update_matrix(pcm):\n",
    "    global data, times, log\n",
    "    logs = True\n",
    "    ffty_source = scipy.fftpack.fft(pcm)  # convert WAV to FFT\n",
    "    \n",
    "    ffty_500 = abs(ffty_source[0:int(len(ffty_source)/2)])/500  # FFT is mirror-imaged\n",
    "    log[f'500_{times}'] = ffty_500\n",
    "    \n",
    "    log_ffty=(scipy.fftpack.fft(ffty_500))*30-50 # if you want uniform data\n",
    "    log[f'30_50_{times}'] = ffty_500\n",
    "    # print(\"MIN:t%stMAX:t%s\" % (min(ffty), max(ffty)))\n",
    "    for i in range(len(ffty_500)):\n",
    "        if ffty_500[i] < 0:\n",
    "            ffty_500[i] = 0\n",
    "        if ffty_500[i] > 255:\n",
    "            ffty_500[i] = 255\n",
    "    scooter.append(ffty_500)\n",
    "    if len(scooter) < 6:\n",
    "        return\n",
    "    scooter.pop(0)\n",
    "    ffty_500 = (scooter[0]+scooter[1]*2+scooter[2]*3+scooter[3]*2+scooter[4])/9\n",
    "    data = numpy.roll(data, -1, 0)\n",
    "    data[-1] = ffty_500[::-1]\n",
    "    times += 1\n",
    "    if logs:\n",
    "        if times > 90_000:\n",
    "            logs=False\n",
    "            print('ENDDDDDDDDDDDDDDDDDDDDDDDDDDDDDDDDDDDDDD')"
   ]
  },
  {
   "cell_type": "code",
   "execution_count": null,
   "id": "5efe96c3-3250-4a81-b8ea-89d5bf1c8feb",
   "metadata": {},
   "outputs": [],
   "source": []
  },
  {
   "cell_type": "code",
   "execution_count": 14,
   "id": "43a6f95d-1968-4d1f-8bd9-51f33d856d63",
   "metadata": {},
   "outputs": [
    {
     "data": {
      "text/plain": [
       "array([135.71      , 129.98525933, 113.73440039,  89.57732436,\n",
       "        61.42808453,  34.10283193,  14.93741196,  16.82497071,\n",
       "        23.34476999,  23.76367219,  18.85116859,  12.23589675,\n",
       "         9.92546486,  12.58227975,  14.06051445,  12.41759486,\n",
       "         8.70809352,   6.16760027,   7.38016406,   8.81045278,\n",
       "         8.20459856,   5.95230209,   4.57475386,   6.11057322,\n",
       "         7.70650489,   7.64444222,   6.08811964,   4.63644041,\n",
       "         5.17365576,   6.34714111,   6.41444012,   5.19249102,\n",
       "         3.8123126 ,   4.09504977,   5.21195295,   5.48276217,\n",
       "         4.58392487,   3.30466041,   3.27456245,   4.22867604,\n",
       "         4.60708278,   3.98910924,   2.9375365 ,   2.76848749,\n",
       "         3.49374646,   3.81369128,   3.30886225,   2.50675732,\n",
       "         2.63270792,   3.49006355,   3.92043858,   3.54518036,\n",
       "         2.67256138,   2.2042657 ,   2.58827329,   2.94252469,\n",
       "         2.79302039,   2.43050301,   2.49618253,   2.92061516,\n",
       "         3.0649666 ,   2.66922349,   2.04889502,   1.98560838,\n",
       "         2.47103506,   2.70957818,   2.40921365,   1.88025272,\n",
       "         1.88001636,   2.37858316,   2.62804676,   2.36053741,\n",
       "         1.87963932,   1.91382513,   2.43702975,   2.73575763,\n",
       "         2.52540771,   2.02313   ,   1.84835611,   2.18395967,\n",
       "         2.41385683,   2.17962849,   1.61738981,   1.37066141,\n",
       "         1.76563001,   2.09862133,   1.99203384,   1.56771386,\n",
       "         1.36930282,   1.68109961,   1.95797052,   1.86254149,\n",
       "         1.50421287,   1.36022622,   1.63893891,   1.87197614,\n",
       "         1.77689444,   1.48080165,   1.41792822,   1.69150818,\n",
       "         1.8708588 ,   1.71467439,   1.35152928,   1.23684694,\n",
       "         1.49922335,   1.66568006,   1.49902965,   1.18955129,\n",
       "         1.27446432,   1.69663094,   1.91623444,   1.70710381,\n",
       "         1.18665142,   0.93823986,   1.34429209,   1.694825  ,\n",
       "         1.64941483,   1.28946249,   1.06745262,   1.32736237,\n",
       "         1.60346978,   1.55529874,   1.23345068,   1.04907357,\n",
       "         1.29690016,   1.54903789,   1.48898641,   1.16352815,\n",
       "         0.98552118,   1.25797259,   1.5372604 ,   1.50901787,\n",
       "         1.20847729,   0.99920788,   1.20133939,   1.44987837,\n",
       "         1.42415202,   1.14811594,   0.97413114,   1.18920632,\n",
       "         1.43164318,   1.39892956,   1.1140652 ,   0.92925568,\n",
       "         1.15162171,   1.41058007,   1.39504545,   1.11685779,\n",
       "         0.90637102,   1.09964454,   1.35797433,   1.35575462,\n",
       "         1.08855933,   0.86705226,   1.04598952,   1.31004982,\n",
       "         1.32774751,   1.08521979,   0.86976266,   1.0254189 ,\n",
       "         1.27797598,   1.30303362,   1.07932517,   0.87568612,\n",
       "         1.0164902 ,   1.25448355,   1.27562624,   1.05173109,\n",
       "         0.83958385,   0.9708883 ,   1.20910054,   1.23831126,\n",
       "         1.02807569,   0.8283202 ,   0.95973578,   1.19382148,\n",
       "         1.22354967,   1.01847909,   0.82438945,   0.95587653,\n",
       "         1.18745142,   1.21347651,   0.99745259,   0.78134338,\n",
       "         0.91210738,   1.16469178,   1.21648638,   1.02350031,\n",
       "         0.80616739,   0.89854266,   1.12605055,   1.17029812,\n",
       "         0.97867345,   0.77334289,   0.89251274,   1.14085281,\n",
       "         1.20025591,   1.0157619 ,   0.79123605,   0.87031013,\n",
       "         1.1070841 ,   1.1753639 ,   1.0065298 ,   0.78886408,\n",
       "         0.85267176,   1.07496822,   1.13794378,   0.97028947,\n",
       "         0.76225389,   0.84728407,   1.08510201,   1.15759022,\n",
       "         0.9924446 ,   0.76843057,   0.82573341,   1.05809896,\n",
       "         1.13867089,   0.98384624,   0.76120906,   0.80780177,\n",
       "         1.03618411,   1.12120787,   0.97519461,   0.76154623,\n",
       "         0.81175377,   1.0421016 ,   1.13199684,   0.98983382,\n",
       "         0.76770877,   0.79487125,   1.01581797,   1.10788635,\n",
       "         0.9707208 ,   0.7495208 ,   0.77485065,   0.99845948,\n",
       "         1.09652318,   0.96731096,   0.7539064 ,   0.78231599,\n",
       "         1.00727975,   1.10949896,   0.98453459,   0.76770678,\n",
       "         0.77981993,   0.99602384,   1.09838762,   0.97550624,\n",
       "         0.758494  ,   0.77199096,   0.99553062,   1.10746503,\n",
       "         0.99288754,   0.77515766,   0.77118269,   0.98301923])"
      ]
     },
     "execution_count": 14,
     "metadata": {},
     "output_type": "execute_result"
    }
   ],
   "source": [
    "log[\"500_10000\"]"
   ]
  },
  {
   "cell_type": "code",
   "execution_count": 11,
   "id": "6b8ebe80-8b94-4f0e-afee-2ea93894bd83",
   "metadata": {},
   "outputs": [
    {
     "ename": "KeyError",
     "evalue": "'500_10001'",
     "output_type": "error",
     "traceback": [
      "\u001b[1;31m---------------------------------------------------------------------------\u001b[0m",
      "\u001b[1;31mKeyError\u001b[0m                                  Traceback (most recent call last)",
      "Cell \u001b[1;32mIn[11], line 1\u001b[0m\n\u001b[1;32m----> 1\u001b[0m \u001b[43mlog\u001b[49m\u001b[43m[\u001b[49m\u001b[38;5;124;43mf\u001b[39;49m\u001b[38;5;124;43m'\u001b[39;49m\u001b[38;5;124;43m500_10001\u001b[39;49m\u001b[38;5;124;43m'\u001b[39;49m\u001b[43m]\u001b[49m\n",
      "\u001b[1;31mKeyError\u001b[0m: '500_10001'"
     ]
    }
   ],
   "source": [
    "log[f'500_10001']"
   ]
  },
  {
   "cell_type": "code",
   "execution_count": null,
   "id": "8e01efe6-b7b4-47e9-aca8-e45193cdfec3",
   "metadata": {},
   "outputs": [],
   "source": []
  },
  {
   "cell_type": "code",
   "execution_count": null,
   "id": "ba8b1c25-0b4e-49f1-8c65-6a8b9a75db39",
   "metadata": {},
   "outputs": [],
   "source": []
  },
  {
   "cell_type": "code",
   "execution_count": null,
   "id": "da6409bb-f8c0-48a6-a486-8c32717de994",
   "metadata": {},
   "outputs": [],
   "source": [
    "def record():\n",
    "    # p = pyaudio.PyAudio()\n",
    "    # inStream = p.open(format=pyaudio.paInt16,\n",
    "    #                   channels=1,\n",
    "    #                   rate=SAMPLE_RATE,\n",
    "    #                   input_device_index=DEVICE, input=True)\n",
    "    # while True:\n",
    "    #     pcm = numpy.frombuffer(inStream.read(fftsize*4))\n",
    "    #     #print('PCM FIRST LEN',len(pcm))\n",
    "    #     update_matrix(pcm)\n",
    "    p = pyaudio.PyAudio()\n",
    "    inStream = p.open(format=pyaudio.paInt16, channels=1, rate=SAMPLE_RATE,\n",
    "                      input_device_index=DEVICE, input=True)\n",
    "    linear = [0]*fftsize\n",
    "    while True:\n",
    "        linear = linear[int(fftsize/overlap):]\n",
    "        pcm = numpy.frombuffer(inStream.read(\n",
    "            int(fftsize/overlap)), dtype=numpy.int16)\n",
    "        linear = numpy.append(linear, pcm)\n",
    "        update_matrix(linear)"
   ]
  },
  {
   "cell_type": "code",
   "execution_count": null,
   "id": "cbebab0b-8ae2-4c88-8bcf-9660f59e8093",
   "metadata": {},
   "outputs": [],
   "source": [
    "pal = [(max((x-128)*2, 0), x, min(x*2, 255)) for x in range(256)]\n",
    "print( max(pal), min(pal))\n",
    "data = numpy.array(numpy.zeros((W, int(fftsize/2))), dtype=int)\n",
    "# data=Numeric.array(data) # for older PyGame that requires Numeric\n",
    "pygame.init()  # crank up PyGame\n",
    "pygame.display.set_caption(\"Simple Spectrograph\")\n",
    "screen = pygame.display.set_mode((W, fftsize/2))\n",
    "world = pygame.Surface((W, fftsize/2), depth=8)  # MAIN SURFACE\n",
    "world.set_palette(pal)\n",
    "t_rec = threading.Thread(target=record)  # make thread for record()\n",
    "t_rec.daemon = True  # daemon mode forces thread to quit with program\n",
    "t_rec.start()  # launch thread\n",
    "clk = pygame.time.Clock()\n",
    "while 1:\n",
    "    for event in pygame.event.get():  # check if we need to exit\n",
    "        if event.type == pygame.QUIT:\n",
    "            pygame.quit()\n",
    "            sys.exit()\n",
    "    pygame.surfarray.blit_array(world, data)  # place data in window\n",
    "    screen.blit(world, (0, 0))\n",
    "    pygame.display.flip()  # RENDER WINDOW\n",
    "    clk.tick(30)  # limit to 30FPS"
   ]
  },
  {
   "cell_type": "code",
   "execution_count": null,
   "id": "6551ab22-de9a-4770-ba2d-edf205f10562",
   "metadata": {},
   "outputs": [],
   "source": []
  },
  {
   "cell_type": "code",
   "execution_count": null,
   "id": "649194b1-37d5-4aa1-b880-344e0f422dd1",
   "metadata": {},
   "outputs": [],
   "source": []
  },
  {
   "cell_type": "code",
   "execution_count": null,
   "id": "4fc7311a-894a-4e1f-8984-37032bc78421",
   "metadata": {},
   "outputs": [],
   "source": []
  },
  {
   "cell_type": "code",
   "execution_count": null,
   "id": "c5743f0e-ac59-4114-b792-00554499e101",
   "metadata": {},
   "outputs": [],
   "source": []
  },
  {
   "cell_type": "code",
   "execution_count": null,
   "id": "253709eb-dfe7-4b0d-b4dc-ff9c336e3a48",
   "metadata": {},
   "outputs": [],
   "source": []
  },
  {
   "cell_type": "code",
   "execution_count": null,
   "id": "221dd6d2-f901-4834-87a0-71aacb9d152e",
   "metadata": {},
   "outputs": [],
   "source": []
  },
  {
   "cell_type": "code",
   "execution_count": null,
   "id": "88f9f2dd-b741-4446-8955-91b270e5e24b",
   "metadata": {},
   "outputs": [],
   "source": []
  },
  {
   "cell_type": "code",
   "execution_count": 13,
   "id": "0dc3370c-cf79-4a77-90be-fae0b6906779",
   "metadata": {},
   "outputs": [
    {
     "name": "stderr",
     "output_type": "stream",
     "text": [
      "Exception in thread Thread-11 (record):\n",
      "Traceback (most recent call last):\n",
      "  File \"C:\\Users\\chomps\\.conda\\envs\\audios\\Lib\\threading.py\", line 1045, in _bootstrap_inner\n",
      "    self.run()\n",
      "  File \"C:\\Users\\chomps\\.conda\\envs\\audios\\Lib\\threading.py\", line 982, in run\n",
      "    self._target(*self._args, **self._kwargs)\n",
      "  File \"C:\\Users\\chomps\\AppData\\Local\\Temp\\ipykernel_1308\\3651637372.py\", line 32, in record\n",
      "  File \"C:\\Users\\chomps\\.conda\\envs\\audios\\Lib\\site-packages\\pyaudio.py\", line 608, in read\n",
      "    return pa.read_stream(self._stream, num_frames, exception_on_overflow)\n",
      "           ^^^^^^^^^^^^^^^^^^^^^^^^^^^^^^^^^^^^^^^^^^^^^^^^^^^^^^^^^^^^^^^\n",
      "OSError: [Errno -9981] Input overflowed\n"
     ]
    },
    {
     "ename": "SystemExit",
     "evalue": "",
     "output_type": "error",
     "traceback": [
      "An exception has occurred, use %tb to see the full traceback.\n",
      "\u001b[1;31mSystemExit\u001b[0m\n"
     ]
    }
   ],
   "source": [
    "\n",
    "def graphFFT(pcm):\n",
    "    global currentCol, data\n",
    "    ffty = scipy.fftpack.fft(pcm)  # convert WAV to FFT\n",
    "    ffty = abs(ffty[0:int(len(ffty)/2)])/500  # FFT is mirror-imaged\n",
    "    # ffty=(scipy.log(ffty))*30-50 # if you want uniform data\n",
    "    print(\"MIN:t%stMAX:t%s\" % (min(ffty), max(ffty)))\n",
    "    clear_output(wait = True)\n",
    "    for i in range(len(ffty)):\n",
    "        if ffty[i] < 0:\n",
    "            ffty[i] = 0\n",
    "        if ffty[i] > 255:\n",
    "            ffty[i] = 255\n",
    "    scooter.append(ffty)\n",
    "    if len(scooter) < 6:\n",
    "        return\n",
    "    scooter.pop(0)\n",
    "    ffty = (scooter[0]+scooter[1]*2+scooter[2]*3+scooter[3]*2+scooter[4])/9\n",
    "    data = numpy.roll(data, -1, 0)\n",
    "    data[-1] = ffty[::-1]\n",
    "    currentCol += 1\n",
    "    if currentCol == windowWidth:\n",
    "        currentCol = 0\n",
    "\n",
    "\n",
    "def record():\n",
    "    p = pyaudio.PyAudio()\n",
    "    inStream = p.open(format=pyaudio.paInt16, channels=1, rate=rate,\n",
    "                      input_device_index=soundcard, input=True)\n",
    "    linear = [0]*fftsize\n",
    "    while True:\n",
    "        linear = linear[int(fftsize/overlap):]\n",
    "        pcm = numpy.frombuffer(inStream.read(\n",
    "            int(fftsize/overlap)), dtype=numpy.int16)\n",
    "        linear = numpy.append(linear, pcm)\n",
    "        graphFFT(linear)\n",
    "\n",
    "\n",
    "pal = [(max((x-128)*2, 0), x, min(x*2, 255)) for x in range(256)]\n",
    "print( max(pal), min(pal))\n",
    "data = numpy.array(numpy.zeros((windowWidth, int(fftsize/2))), dtype=int)\n",
    "# data=Numeric.array(data) # for older PyGame that requires Numeric\n",
    "pygame.init()  # crank up PyGame\n",
    "pygame.display.set_caption(\"Simple Spectrograph\")\n",
    "screen = pygame.display.set_mode((windowWidth, fftsize/2))\n",
    "world = pygame.Surface((windowWidth, fftsize/2), depth=8)  # MAIN SURFACE\n",
    "world.set_palette(pal)\n",
    "t_rec = threading.Thread(target=record)  # make thread for record()\n",
    "t_rec.daemon = True  # daemon mode forces thread to quit with program\n",
    "t_rec.start()  # launch thread\n",
    "clk = pygame.time.Clock()\n",
    "while 1:\n",
    "    for event in pygame.event.get():  # check if we need to exit\n",
    "        if event.type == pygame.QUIT:\n",
    "            pygame.quit()\n",
    "            sys.exit()\n",
    "    pygame.surfarray.blit_array(world, data)  # place data in window\n",
    "    screen.blit(world, (0, 0))\n",
    "    pygame.display.flip()  # RENDER WINDOW\n",
    "    clk.tick(30)  # limit to 30FPS"
   ]
  },
  {
   "cell_type": "code",
   "execution_count": null,
   "id": "bf863fe6-c15c-4fd3-834f-ed84633bf076",
   "metadata": {},
   "outputs": [],
   "source": [
    "soundcard = 1"
   ]
  },
  {
   "cell_type": "code",
   "execution_count": null,
   "id": "1aa58b8c-f6e6-408d-abdd-46be501f28eb",
   "metadata": {},
   "outputs": [],
   "source": [
    "def record():\n",
    "    p = pyaudio.PyAudio()\n",
    "    inStream = p.open(format=pyaudio.paInt16, channels=1, rate=rate,\n",
    "                      input_device_index=soundcard, input=True)\n",
    "    linear = [0]*fftsize\n",
    "    while True:\n",
    "        linear = linear[fftsize/overlap:]\n",
    "        pcm = numpy.fromstring(inStream.read(\n",
    "            fftsize/overlap), dtype=numpy.int16)\n",
    "        linear = numpy.append(linear, pcm)\n",
    "        graphFFT(linear)"
   ]
  },
  {
   "cell_type": "code",
   "execution_count": null,
   "id": "d76a49d6-c6f0-49ae-958d-24cb118530be",
   "metadata": {},
   "outputs": [],
   "source": [
    "record()"
   ]
  },
  {
   "cell_type": "code",
   "execution_count": 18,
   "id": "d4f28d9a-6aac-4e6d-b3e0-c3c9f380b0c8",
   "metadata": {},
   "outputs": [],
   "source": [
    "p = pyaudio.PyAudio()\n",
    "inStream = p.open(format=pyaudio.paInt16, channels=1, rate=rate,\n",
    "                      input_device_index=1, input=True)"
   ]
  },
  {
   "cell_type": "code",
   "execution_count": null,
   "id": "b91b8979-e2e8-47a1-8169-159de4b5bacf",
   "metadata": {},
   "outputs": [],
   "source": []
  }
 ],
 "metadata": {
  "kernelspec": {
   "display_name": "spectogram",
   "language": "python",
   "name": "spectogram"
  },
  "language_info": {
   "codemirror_mode": {
    "name": "ipython",
    "version": 3
   },
   "file_extension": ".py",
   "mimetype": "text/x-python",
   "name": "python",
   "nbconvert_exporter": "python",
   "pygments_lexer": "ipython3",
   "version": "3.10.14"
  }
 },
 "nbformat": 4,
 "nbformat_minor": 5
}
