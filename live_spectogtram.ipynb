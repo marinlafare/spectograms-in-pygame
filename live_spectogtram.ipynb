{
 "cells": [
  {
   "cell_type": "code",
   "execution_count": 3,
   "id": "6685b75f-5c30-4a2d-8fb0-86bb7489a7c0",
   "metadata": {},
   "outputs": [],
   "source": [
    "import pygame\n",
    "import numpy\n",
    "import threading\n",
    "import pyaudio\n",
    "import scipy\n",
    "import scipy.fftpack\n",
    "import scipy.io.wavfile\n",
    "import sys\n",
    "import wave\n",
    "from IPython.display import clear_output"
   ]
  },
  {
   "cell_type": "code",
   "execution_count": 7,
   "id": "f711d21b-48d0-4c15-9e7b-b76843b20c18",
   "metadata": {},
   "outputs": [
    {
     "data": {
      "text/plain": [
       "   0 Microsoft Sound Mapper - Input, MME (2 in, 0 out)\n",
       ">  1 Digidesign Mbox2 Analog 1/2 (2-, MME (2 in, 0 out)\n",
       "   2 Digidesign Mbox2 S/PDIF 3/4 (2-, MME (2 in, 0 out)\n",
       "   3 Microphone (HD Pro Webcam C920), MME (2 in, 0 out)\n",
       "   4 Microsoft Sound Mapper - Output, MME (0 in, 2 out)\n",
       "<  5 Speakers (Realtek High Definiti, MME (0 in, 8 out)\n",
       "   6 Realtek Digital Output (Realtek, MME (0 in, 2 out)\n",
       "   7 ASUS VP228 (3- NVIDIA High Defi, MME (0 in, 2 out)\n",
       "   8 ASUS VP228 (3- NVIDIA High Defi, MME (0 in, 2 out)\n",
       "   9 Digidesign Mbox2 Analog 1/2 (2-, MME (0 in, 2 out)\n",
       "  10 Digidesign Mbox2 Analog 1/2 (Mbox2 In 1/2 In), Windows WDM-KS (2 in, 0 out)\n",
       "  11 Digidesign Mbox2 S/PDIF 3/4 (Mbox2 In S/PDIF 3/4 In), Windows WDM-KS (2 in, 0 out)\n",
       "  12 Digidesign Mbox2 Analog 1/2 (Mbox2 Out 1/2 Out), Windows WDM-KS (0 in, 2 out)\n",
       "  13 SPDIF Out (Realtek HDA SPDIF Out), Windows WDM-KS (0 in, 2 out)\n",
       "  14 Speakers (Realtek HD Audio output), Windows WDM-KS (0 in, 8 out)\n",
       "  15 Stereo Mix (Realtek HD Audio Stereo input), Windows WDM-KS (2 in, 0 out)\n",
       "  16 Line In (Realtek HD Audio Line input), Windows WDM-KS (2 in, 0 out)\n",
       "  17 Microphone (Realtek HD Audio Mic input), Windows WDM-KS (2 in, 0 out)\n",
       "  18 Output (NVIDIA High Definition Audio), Windows WDM-KS (0 in, 2 out)\n",
       "  19 Output (), Windows WDM-KS (0 in, 2 out)\n",
       "  20 Microphone (HD Pro Webcam C920), Windows WDM-KS (2 in, 0 out)\n",
       "  21 Headphones (), Windows WDM-KS (0 in, 2 out)\n",
       "  22 Headset (@System32\\drivers\\bthhfenum.sys,#2;%1 Hands-Free AG Audio%0\n",
       ";(SOUNDPEATS H1_EB5B)), Windows WDM-KS (0 in, 1 out)\n",
       "  23 Headset (@System32\\drivers\\bthhfenum.sys,#2;%1 Hands-Free AG Audio%0\n",
       ";(SOUNDPEATS H1_EB5B)), Windows WDM-KS (1 in, 0 out)"
      ]
     },
     "execution_count": 7,
     "metadata": {},
     "output_type": "execute_result"
    }
   ],
   "source": [
    "import sounddevice as sd\n",
    "sd.query_devices()"
   ]
  },
  {
   "cell_type": "code",
   "execution_count": null,
   "id": "a5b4dccf-004e-4dbc-93a3-12554f321cf1",
   "metadata": {},
   "outputs": [],
   "source": []
  },
  {
   "cell_type": "code",
   "execution_count": null,
   "id": "e0262098-4940-4a5c-85a0-5e172e25b490",
   "metadata": {},
   "outputs": [],
   "source": []
  },
  {
   "cell_type": "code",
   "execution_count": null,
   "id": "498a3aaa-fa31-4890-bc63-789c6e15a31f",
   "metadata": {},
   "outputs": [],
   "source": []
  },
  {
   "cell_type": "code",
   "execution_count": 12,
   "id": "643ea267-af5c-4634-928b-a313a0927f4a",
   "metadata": {},
   "outputs": [],
   "source": [
    "SAMPLE_RATE = 44100  # try 5000 for HD data, 48000 for realtime\n",
    "DEVICE = 1\n",
    "W = 500\n",
    "fftsize = 512\n",
    "currentCol = 0\n",
    "scooter = []\n",
    "overlap = 5  # 1 for raw, realtime - 8 or 16 for high-definition"
   ]
  },
  {
   "cell_type": "code",
   "execution_count": 13,
   "id": "946c6176-bd8a-42b3-9d4c-7822cc470353",
   "metadata": {},
   "outputs": [],
   "source": [
    "def update_matrix(pcm):\n",
    "    global data\n",
    "    ffty = scipy.fftpack.fft(pcm)  # convert WAV to FFT\n",
    "    ffty = abs(ffty[0:int(len(ffty)/2)])/500  # FFT is mirror-imaged\n",
    "    # ffty=(scipy.log(ffty))*30-50 # if you want uniform data\n",
    "    print(\"MIN:t%stMAX:t%s\" % (min(ffty), max(ffty)))\n",
    "    for i in range(len(ffty)):\n",
    "        if ffty[i] < 0:\n",
    "            ffty[i] = 0\n",
    "        if ffty[i] > 255:\n",
    "            ffty[i] = 255\n",
    "    scooter.append(ffty)\n",
    "    if len(scooter) < 6:\n",
    "        return\n",
    "    scooter.pop(0)\n",
    "    ffty = (scooter[0]+scooter[1]*2+scooter[2]*3+scooter[3]*2+scooter[4])/9\n",
    "    data = numpy.roll(data, -1, 0)\n",
    "    data[-1] = ffty[::-1]"
   ]
  },
  {
   "cell_type": "code",
   "execution_count": 14,
   "id": "da6409bb-f8c0-48a6-a486-8c32717de994",
   "metadata": {},
   "outputs": [],
   "source": [
    "def record():\n",
    "    # p = pyaudio.PyAudio()\n",
    "    # inStream = p.open(format=pyaudio.paInt16,\n",
    "    #                   channels=1,\n",
    "    #                   rate=SAMPLE_RATE,\n",
    "    #                   input_device_index=DEVICE, input=True)\n",
    "    # while True:\n",
    "    #     pcm = numpy.frombuffer(inStream.read(fftsize*4))\n",
    "    #     #print('PCM FIRST LEN',len(pcm))\n",
    "    #     update_matrix(pcm)\n",
    "    p = pyaudio.PyAudio()\n",
    "    inStream = p.open(format=pyaudio.paInt16, channels=1, rate=SAMPLE_RATE,\n",
    "                      input_device_index=DEVICE, input=True)\n",
    "    linear = [0]*fftsize\n",
    "    while True:\n",
    "        linear = linear[int(fftsize/overlap):]\n",
    "        pcm = numpy.frombuffer(inStream.read(\n",
    "            int(fftsize/overlap)), dtype=numpy.int16)\n",
    "        linear = numpy.append(linear, pcm)\n",
    "        update_matrix(linear)"
   ]
  },
  {
   "cell_type": "code",
   "execution_count": null,
   "id": "cbebab0b-8ae2-4c88-8bcf-9660f59e8093",
   "metadata": {},
   "outputs": [],
   "source": [
    "pal = [(max((x-128)*2, 0), x, min(x*2, 255)) for x in range(256)]\n",
    "print( max(pal), min(pal))\n",
    "data = numpy.array(numpy.zeros((W, int(fftsize/2))), dtype=int)\n",
    "# data=Numeric.array(data) # for older PyGame that requires Numeric\n",
    "pygame.init()  # crank up PyGame\n",
    "pygame.display.set_caption(\"Simple Spectrograph\")\n",
    "screen = pygame.display.set_mode((W, fftsize/2))\n",
    "world = pygame.Surface((W, fftsize/2), depth=8)  # MAIN SURFACE\n",
    "world.set_palette(pal)\n",
    "t_rec = threading.Thread(target=record)  # make thread for record()\n",
    "t_rec.daemon = True  # daemon mode forces thread to quit with program\n",
    "t_rec.start()  # launch thread\n",
    "clk = pygame.time.Clock()\n",
    "while 1:\n",
    "    for event in pygame.event.get():  # check if we need to exit\n",
    "        if event.type == pygame.QUIT:\n",
    "            pygame.quit()\n",
    "            sys.exit()\n",
    "    pygame.surfarray.blit_array(world, data)  # place data in window\n",
    "    screen.blit(world, (0, 0))\n",
    "    pygame.display.flip()  # RENDER WINDOW\n",
    "    clk.tick(30)  # limit to 30FPS"
   ]
  },
  {
   "cell_type": "code",
   "execution_count": null,
   "id": "6551ab22-de9a-4770-ba2d-edf205f10562",
   "metadata": {},
   "outputs": [],
   "source": []
  },
  {
   "cell_type": "code",
   "execution_count": null,
   "id": "649194b1-37d5-4aa1-b880-344e0f422dd1",
   "metadata": {},
   "outputs": [],
   "source": []
  },
  {
   "cell_type": "code",
   "execution_count": null,
   "id": "4fc7311a-894a-4e1f-8984-37032bc78421",
   "metadata": {},
   "outputs": [],
   "source": []
  },
  {
   "cell_type": "code",
   "execution_count": null,
   "id": "c5743f0e-ac59-4114-b792-00554499e101",
   "metadata": {},
   "outputs": [],
   "source": []
  },
  {
   "cell_type": "code",
   "execution_count": null,
   "id": "253709eb-dfe7-4b0d-b4dc-ff9c336e3a48",
   "metadata": {},
   "outputs": [],
   "source": []
  },
  {
   "cell_type": "code",
   "execution_count": null,
   "id": "221dd6d2-f901-4834-87a0-71aacb9d152e",
   "metadata": {},
   "outputs": [],
   "source": []
  },
  {
   "cell_type": "code",
   "execution_count": null,
   "id": "88f9f2dd-b741-4446-8955-91b270e5e24b",
   "metadata": {},
   "outputs": [],
   "source": []
  },
  {
   "cell_type": "code",
   "execution_count": 13,
   "id": "0dc3370c-cf79-4a77-90be-fae0b6906779",
   "metadata": {},
   "outputs": [
    {
     "name": "stderr",
     "output_type": "stream",
     "text": [
      "Exception in thread Thread-11 (record):\n",
      "Traceback (most recent call last):\n",
      "  File \"C:\\Users\\chomps\\.conda\\envs\\audios\\Lib\\threading.py\", line 1045, in _bootstrap_inner\n",
      "    self.run()\n",
      "  File \"C:\\Users\\chomps\\.conda\\envs\\audios\\Lib\\threading.py\", line 982, in run\n",
      "    self._target(*self._args, **self._kwargs)\n",
      "  File \"C:\\Users\\chomps\\AppData\\Local\\Temp\\ipykernel_1308\\3651637372.py\", line 32, in record\n",
      "  File \"C:\\Users\\chomps\\.conda\\envs\\audios\\Lib\\site-packages\\pyaudio.py\", line 608, in read\n",
      "    return pa.read_stream(self._stream, num_frames, exception_on_overflow)\n",
      "           ^^^^^^^^^^^^^^^^^^^^^^^^^^^^^^^^^^^^^^^^^^^^^^^^^^^^^^^^^^^^^^^\n",
      "OSError: [Errno -9981] Input overflowed\n"
     ]
    },
    {
     "ename": "SystemExit",
     "evalue": "",
     "output_type": "error",
     "traceback": [
      "An exception has occurred, use %tb to see the full traceback.\n",
      "\u001b[1;31mSystemExit\u001b[0m\n"
     ]
    }
   ],
   "source": [
    "\n",
    "def graphFFT(pcm):\n",
    "    global currentCol, data\n",
    "    ffty = scipy.fftpack.fft(pcm)  # convert WAV to FFT\n",
    "    ffty = abs(ffty[0:int(len(ffty)/2)])/500  # FFT is mirror-imaged\n",
    "    # ffty=(scipy.log(ffty))*30-50 # if you want uniform data\n",
    "    print(\"MIN:t%stMAX:t%s\" % (min(ffty), max(ffty)))\n",
    "    clear_output(wait = True)\n",
    "    for i in range(len(ffty)):\n",
    "        if ffty[i] < 0:\n",
    "            ffty[i] = 0\n",
    "        if ffty[i] > 255:\n",
    "            ffty[i] = 255\n",
    "    scooter.append(ffty)\n",
    "    if len(scooter) < 6:\n",
    "        return\n",
    "    scooter.pop(0)\n",
    "    ffty = (scooter[0]+scooter[1]*2+scooter[2]*3+scooter[3]*2+scooter[4])/9\n",
    "    data = numpy.roll(data, -1, 0)\n",
    "    data[-1] = ffty[::-1]\n",
    "    currentCol += 1\n",
    "    if currentCol == windowWidth:\n",
    "        currentCol = 0\n",
    "\n",
    "\n",
    "def record():\n",
    "    p = pyaudio.PyAudio()\n",
    "    inStream = p.open(format=pyaudio.paInt16, channels=1, rate=rate,\n",
    "                      input_device_index=soundcard, input=True)\n",
    "    linear = [0]*fftsize\n",
    "    while True:\n",
    "        linear = linear[int(fftsize/overlap):]\n",
    "        pcm = numpy.frombuffer(inStream.read(\n",
    "            int(fftsize/overlap)), dtype=numpy.int16)\n",
    "        linear = numpy.append(linear, pcm)\n",
    "        graphFFT(linear)\n",
    "\n",
    "\n",
    "pal = [(max((x-128)*2, 0), x, min(x*2, 255)) for x in range(256)]\n",
    "print( max(pal), min(pal))\n",
    "data = numpy.array(numpy.zeros((windowWidth, int(fftsize/2))), dtype=int)\n",
    "# data=Numeric.array(data) # for older PyGame that requires Numeric\n",
    "pygame.init()  # crank up PyGame\n",
    "pygame.display.set_caption(\"Simple Spectrograph\")\n",
    "screen = pygame.display.set_mode((windowWidth, fftsize/2))\n",
    "world = pygame.Surface((windowWidth, fftsize/2), depth=8)  # MAIN SURFACE\n",
    "world.set_palette(pal)\n",
    "t_rec = threading.Thread(target=record)  # make thread for record()\n",
    "t_rec.daemon = True  # daemon mode forces thread to quit with program\n",
    "t_rec.start()  # launch thread\n",
    "clk = pygame.time.Clock()\n",
    "while 1:\n",
    "    for event in pygame.event.get():  # check if we need to exit\n",
    "        if event.type == pygame.QUIT:\n",
    "            pygame.quit()\n",
    "            sys.exit()\n",
    "    pygame.surfarray.blit_array(world, data)  # place data in window\n",
    "    screen.blit(world, (0, 0))\n",
    "    pygame.display.flip()  # RENDER WINDOW\n",
    "    clk.tick(30)  # limit to 30FPS"
   ]
  },
  {
   "cell_type": "code",
   "execution_count": null,
   "id": "bf863fe6-c15c-4fd3-834f-ed84633bf076",
   "metadata": {},
   "outputs": [],
   "source": [
    "soundcard = 1"
   ]
  },
  {
   "cell_type": "code",
   "execution_count": null,
   "id": "1aa58b8c-f6e6-408d-abdd-46be501f28eb",
   "metadata": {},
   "outputs": [],
   "source": [
    "def record():\n",
    "    p = pyaudio.PyAudio()\n",
    "    inStream = p.open(format=pyaudio.paInt16, channels=1, rate=rate,\n",
    "                      input_device_index=soundcard, input=True)\n",
    "    linear = [0]*fftsize\n",
    "    while True:\n",
    "        linear = linear[fftsize/overlap:]\n",
    "        pcm = numpy.fromstring(inStream.read(\n",
    "            fftsize/overlap), dtype=numpy.int16)\n",
    "        linear = numpy.append(linear, pcm)\n",
    "        graphFFT(linear)"
   ]
  },
  {
   "cell_type": "code",
   "execution_count": null,
   "id": "d76a49d6-c6f0-49ae-958d-24cb118530be",
   "metadata": {},
   "outputs": [],
   "source": [
    "record()"
   ]
  },
  {
   "cell_type": "code",
   "execution_count": 18,
   "id": "d4f28d9a-6aac-4e6d-b3e0-c3c9f380b0c8",
   "metadata": {},
   "outputs": [],
   "source": [
    "p = pyaudio.PyAudio()\n",
    "inStream = p.open(format=pyaudio.paInt16, channels=1, rate=rate,\n",
    "                      input_device_index=1, input=True)"
   ]
  },
  {
   "cell_type": "code",
   "execution_count": null,
   "id": "b91b8979-e2e8-47a1-8169-159de4b5bacf",
   "metadata": {},
   "outputs": [],
   "source": []
  }
 ],
 "metadata": {
  "kernelspec": {
   "display_name": "spectogram",
   "language": "python",
   "name": "spectogram"
  },
  "language_info": {
   "codemirror_mode": {
    "name": "ipython",
    "version": 3
   },
   "file_extension": ".py",
   "mimetype": "text/x-python",
   "name": "python",
   "nbconvert_exporter": "python",
   "pygments_lexer": "ipython3",
   "version": "3.10.14"
  }
 },
 "nbformat": 4,
 "nbformat_minor": 5
}
