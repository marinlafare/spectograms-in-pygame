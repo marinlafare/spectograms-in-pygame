{
 "cells": [
  {
   "cell_type": "code",
   "execution_count": 1,
   "id": "6e0c432c-ba29-4bc2-a7d0-a5b9d1c8f23e",
   "metadata": {},
   "outputs": [
    {
     "name": "stdout",
     "output_type": "stream",
     "text": [
      "pygame 2.5.2 (SDL 2.28.3, Python 3.10.14)\n",
      "Hello from the pygame community. https://www.pygame.org/contribute.html\n"
     ]
    }
   ],
   "source": [
    "import pygame\n",
    "import numpy as np\n",
    "import threading\n",
    "import pyaudio\n",
    "import scipy\n",
    "import scipy.fftpack\n",
    "import scipy.io.wavfile\n",
    "import sys\n",
    "import wave\n",
    "from IPython.display import clear_output"
   ]
  },
  {
   "cell_type": "code",
   "execution_count": 2,
   "id": "b97649dc-c865-4f48-83c8-d1098e9aad0b",
   "metadata": {},
   "outputs": [],
   "source": [
    "FORMAT = pyaudio.paInt16\n",
    "CHANNELS = 1\n",
    "SAMPLE_RATE = 44100\n",
    "FFTSIZE = 512\n",
    "RECORD_SECONDS = 5\n",
    "WAVE_OUTPUT_FILENAME = \"file3.wav\"\n",
    "mic_recording = np.array([0]*FFTSIZE)\n",
    "DEVICE = 1\n",
    "W = 500"
   ]
  },
  {
   "cell_type": "code",
   "execution_count": 3,
   "id": "f711d21b-48d0-4c15-9e7b-b76843b20c18",
   "metadata": {},
   "outputs": [],
   "source": [
    "# import sounddevice as sd\n",
    "# sd.query_devices()"
   ]
  },
  {
   "cell_type": "code",
   "execution_count": 3,
   "id": "946c6176-bd8a-42b3-9d4c-7822cc470353",
   "metadata": {},
   "outputs": [],
   "source": [
    "def update_matrix(pcm):\n",
    "    global screen_colors\n",
    "\n",
    "    ffty = scipy.fftpack.fft(pcm)  # convert WAV to FFT\n",
    "    ffty = abs(ffty[0:int(len(ffty)/2)])/500  # FFT is mirror-imaged\n",
    "    # print(\"MIN:t%stMAX:t%s\" % (min(ffty), max(ffty)))\n",
    "    for i in range(len(ffty)):\n",
    "        if ffty[i] < 0:\n",
    "            ffty[i] = 0\n",
    "        if ffty[i] > 255:\n",
    "            ffty[i] = 255\n",
    "    screen_colors = np.roll(screen_colors, -1, 0)\n",
    "    screen_colors[-1] = ffty[::-1]"
   ]
  },
  {
   "cell_type": "code",
   "execution_count": 4,
   "id": "da6409bb-f8c0-48a6-a486-8c32717de994",
   "metadata": {},
   "outputs": [],
   "source": [
    "def record():\n",
    "    global mic_recording\n",
    "    p = pyaudio.PyAudio()\n",
    "    Stream = p.open(format=FORMAT,\n",
    "                    channels=CHANNELS,\n",
    "                    rate=SAMPLE_RATE,\n",
    "                    frames_per_buffer=FFTSIZE,\n",
    "                    input=True)\n",
    "    while True:\n",
    "        \n",
    "        print(len(mic_recording))\n",
    "        clear_output(wait = True)\n",
    "        pcm = np.frombuffer( Stream.read(FFTSIZE) )\n",
    "        mic_recording = np.append(mic_recording,pcm)"
   ]
  },
  {
   "cell_type": "code",
   "execution_count": 5,
   "id": "cbebab0b-8ae2-4c88-8bcf-9660f59e8093",
   "metadata": {},
   "outputs": [],
   "source": [
    "pal = [(max((x-128)*2, 0), x, min(x*2, 255)) for x in range(256)]"
   ]
  },
  {
   "cell_type": "code",
   "execution_count": 6,
   "id": "7c7bd3a4-49ee-48e3-a19d-fe978ba0fac5",
   "metadata": {},
   "outputs": [],
   "source": [
    "screen_colors = np.array(np.zeros((W, int(FFTSIZE/2))), dtype=int)"
   ]
  },
  {
   "cell_type": "code",
   "execution_count": 8,
   "id": "dd240e58-3016-42c3-9c63-ea89584a3939",
   "metadata": {},
   "outputs": [
    {
     "data": {
      "text/plain": [
       "(500, 256)"
      ]
     },
     "execution_count": 8,
     "metadata": {},
     "output_type": "execute_result"
    }
   ],
   "source": [
    "screen_colors.shape"
   ]
  },
  {
   "cell_type": "markdown",
   "id": "30eee530-8bf2-475b-8b3c-bd022a1d897f",
   "metadata": {},
   "source": [
    "## Pygame settings"
   ]
  },
  {
   "cell_type": "code",
   "execution_count": 9,
   "id": "d6f5d0e9-eb57-4273-b99b-2d29298181fe",
   "metadata": {},
   "outputs": [
    {
     "ename": "SystemExit",
     "evalue": "",
     "output_type": "error",
     "traceback": [
      "An exception has occurred, use %tb to see the full traceback.\n",
      "\u001b[1;31mSystemExit\u001b[0m\n"
     ]
    },
    {
     "name": "stderr",
     "output_type": "stream",
     "text": [
      "C:\\Users\\chompu\\.conda\\envs\\spectogram\\lib\\site-packages\\IPython\\core\\interactiveshell.py:3561: UserWarning: To exit: use 'exit', 'quit', or Ctrl-D.\n",
      "  warn(\"To exit: use 'exit', 'quit', or Ctrl-D.\", stacklevel=1)\n"
     ]
    }
   ],
   "source": [
    "pygame.init()  # crank up PyGame\n",
    "pygame.display.set_caption(\"Simple Spectrograph\")\n",
    "screen = pygame.display.set_mode((W, FFTSIZE/2))\n",
    "world = pygame.Surface((W, FFTSIZE/2), depth=8)  # MAIN SURFACE\n",
    "world.set_palette(pal)\n",
    "clk = pygame.time.Clock()\n",
    "\n",
    "t_rec = threading.Thread(target=record)  # make thread for record()\n",
    "t_rec.daemon = True  # daemon mode forces thread to quit with program\n",
    "t_rec.start()  # launch thread\n",
    "while 1:\n",
    "    for event in pygame.event.get():  # check if we need to exit\n",
    "        if event.type == pygame.QUIT:\n",
    "            pygame.quit()\n",
    "            sys.exit()\n",
    "    update_matrix(mic_recording[-FFTSIZE:])\n",
    "    pygame.surfarray.blit_array(world, screen_colors)  # place data in window\n",
    "    screen.blit(world, (0, 0))\n",
    "    pygame.display.flip()  # RENDER WINDOW\n",
    "    clk.tick(30)  # limit to 30FPS"
   ]
  },
  {
   "cell_type": "code",
   "execution_count": 1,
   "id": "253709eb-dfe7-4b0d-b4dc-ff9c336e3a48",
   "metadata": {},
   "outputs": [
    {
     "ename": "NameError",
     "evalue": "name 'mic_recording' is not defined",
     "output_type": "error",
     "traceback": [
      "\u001b[1;31m---------------------------------------------------------------------------\u001b[0m",
      "\u001b[1;31mNameError\u001b[0m                                 Traceback (most recent call last)",
      "Cell \u001b[1;32mIn[1], line 1\u001b[0m\n\u001b[1;32m----> 1\u001b[0m \u001b[38;5;28mlen\u001b[39m(\u001b[43mmic_recording\u001b[49m)\n",
      "\u001b[1;31mNameError\u001b[0m: name 'mic_recording' is not defined"
     ]
    }
   ],
   "source": [
    "len(mic_recording)"
   ]
  },
  {
   "cell_type": "code",
   "execution_count": null,
   "id": "221dd6d2-f901-4834-87a0-71aacb9d152e",
   "metadata": {},
   "outputs": [],
   "source": []
  },
  {
   "cell_type": "code",
   "execution_count": null,
   "id": "88f9f2dd-b741-4446-8955-91b270e5e24b",
   "metadata": {},
   "outputs": [],
   "source": []
  },
  {
   "cell_type": "code",
   "execution_count": 13,
   "id": "0dc3370c-cf79-4a77-90be-fae0b6906779",
   "metadata": {},
   "outputs": [
    {
     "name": "stderr",
     "output_type": "stream",
     "text": [
      "Exception in thread Thread-11 (record):\n",
      "Traceback (most recent call last):\n",
      "  File \"C:\\Users\\chomps\\.conda\\envs\\audios\\Lib\\threading.py\", line 1045, in _bootstrap_inner\n",
      "    self.run()\n",
      "  File \"C:\\Users\\chomps\\.conda\\envs\\audios\\Lib\\threading.py\", line 982, in run\n",
      "    self._target(*self._args, **self._kwargs)\n",
      "  File \"C:\\Users\\chomps\\AppData\\Local\\Temp\\ipykernel_1308\\3651637372.py\", line 32, in record\n",
      "  File \"C:\\Users\\chomps\\.conda\\envs\\audios\\Lib\\site-packages\\pyaudio.py\", line 608, in read\n",
      "    return pa.read_stream(self._stream, num_frames, exception_on_overflow)\n",
      "           ^^^^^^^^^^^^^^^^^^^^^^^^^^^^^^^^^^^^^^^^^^^^^^^^^^^^^^^^^^^^^^^\n",
      "OSError: [Errno -9981] Input overflowed\n"
     ]
    },
    {
     "ename": "SystemExit",
     "evalue": "",
     "output_type": "error",
     "traceback": [
      "An exception has occurred, use %tb to see the full traceback.\n",
      "\u001b[1;31mSystemExit\u001b[0m\n"
     ]
    }
   ],
   "source": [
    "\n",
    "def graphFFT(pcm):\n",
    "    global currentCol, data\n",
    "    ffty = scipy.fftpack.fft(pcm)  # convert WAV to FFT\n",
    "    ffty = abs(ffty[0:int(len(ffty)/2)])/500  # FFT is mirror-imaged\n",
    "    # ffty=(scipy.log(ffty))*30-50 # if you want uniform data\n",
    "    print(\"MIN:t%stMAX:t%s\" % (min(ffty), max(ffty)))\n",
    "    clear_output(wait = True)\n",
    "    for i in range(len(ffty)):\n",
    "        if ffty[i] < 0:\n",
    "            ffty[i] = 0\n",
    "        if ffty[i] > 255:\n",
    "            ffty[i] = 255\n",
    "    scooter.append(ffty)\n",
    "    if len(scooter) < 6:\n",
    "        return\n",
    "    scooter.pop(0)\n",
    "    ffty = (scooter[0]+scooter[1]*2+scooter[2]*3+scooter[3]*2+scooter[4])/9\n",
    "    data = numpy.roll(data, -1, 0)\n",
    "    data[-1] = ffty[::-1]\n",
    "    currentCol += 1\n",
    "    if currentCol == windowWidth:\n",
    "        currentCol = 0\n",
    "\n",
    "\n",
    "def record():\n",
    "    p = pyaudio.PyAudio()\n",
    "    inStream = p.open(format=pyaudio.paInt16, channels=1, rate=rate,\n",
    "                      input_device_index=soundcard, input=True)\n",
    "    linear = [0]*fftsize\n",
    "    while True:\n",
    "        linear = linear[int(fftsize/overlap):]\n",
    "        pcm = numpy.frombuffer(inStream.read(\n",
    "            int(fftsize/overlap)), dtype=numpy.int16)\n",
    "        linear = numpy.append(linear, pcm)\n",
    "        graphFFT(linear)\n",
    "\n",
    "\n",
    "pal = [(max((x-128)*2, 0), x, min(x*2, 255)) for x in range(256)]\n",
    "print( max(pal), min(pal))\n",
    "data = numpy.array(numpy.zeros((windowWidth, int(fftsize/2))), dtype=int)\n",
    "# data=Numeric.array(data) # for older PyGame that requires Numeric\n",
    "pygame.init()  # crank up PyGame\n",
    "pygame.display.set_caption(\"Simple Spectrograph\")\n",
    "screen = pygame.display.set_mode((windowWidth, fftsize/2))\n",
    "world = pygame.Surface((windowWidth, fftsize/2), depth=8)  # MAIN SURFACE\n",
    "world.set_palette(pal)\n",
    "t_rec = threading.Thread(target=record)  # make thread for record()\n",
    "t_rec.daemon = True  # daemon mode forces thread to quit with program\n",
    "t_rec.start()  # launch thread\n",
    "clk = pygame.time.Clock()\n",
    "while 1:\n",
    "    for event in pygame.event.get():  # check if we need to exit\n",
    "        if event.type == pygame.QUIT:\n",
    "            pygame.quit()\n",
    "            sys.exit()\n",
    "    pygame.surfarray.blit_array(world, data)  # place data in window\n",
    "    screen.blit(world, (0, 0))\n",
    "    pygame.display.flip()  # RENDER WINDOW\n",
    "    clk.tick(30)  # limit to 30FPS"
   ]
  },
  {
   "cell_type": "code",
   "execution_count": null,
   "id": "bf863fe6-c15c-4fd3-834f-ed84633bf076",
   "metadata": {},
   "outputs": [],
   "source": [
    "soundcard = 1"
   ]
  },
  {
   "cell_type": "code",
   "execution_count": null,
   "id": "1aa58b8c-f6e6-408d-abdd-46be501f28eb",
   "metadata": {},
   "outputs": [],
   "source": [
    "def record():\n",
    "    p = pyaudio.PyAudio()\n",
    "    inStream = p.open(format=pyaudio.paInt16, channels=1, rate=rate,\n",
    "                      input_device_index=soundcard, input=True)\n",
    "    linear = [0]*fftsize\n",
    "    while True:\n",
    "        linear = linear[fftsize/overlap:]\n",
    "        pcm = numpy.fromstring(inStream.read(\n",
    "            fftsize/overlap), dtype=numpy.int16)\n",
    "        linear = numpy.append(linear, pcm)\n",
    "        graphFFT(linear)"
   ]
  },
  {
   "cell_type": "code",
   "execution_count": null,
   "id": "d76a49d6-c6f0-49ae-958d-24cb118530be",
   "metadata": {},
   "outputs": [],
   "source": [
    "record()"
   ]
  },
  {
   "cell_type": "code",
   "execution_count": 18,
   "id": "d4f28d9a-6aac-4e6d-b3e0-c3c9f380b0c8",
   "metadata": {},
   "outputs": [],
   "source": [
    "p = pyaudio.PyAudio()\n",
    "inStream = p.open(format=pyaudio.paInt16, channels=1, rate=rate,\n",
    "                      input_device_index=1, input=True)"
   ]
  },
  {
   "cell_type": "code",
   "execution_count": null,
   "id": "b91b8979-e2e8-47a1-8169-159de4b5bacf",
   "metadata": {},
   "outputs": [],
   "source": []
  }
 ],
 "metadata": {
  "kernelspec": {
   "display_name": "spectogram",
   "language": "python",
   "name": "spectogram"
  },
  "language_info": {
   "codemirror_mode": {
    "name": "ipython",
    "version": 3
   },
   "file_extension": ".py",
   "mimetype": "text/x-python",
   "name": "python",
   "nbconvert_exporter": "python",
   "pygments_lexer": "ipython3",
   "version": "3.10.14"
  }
 },
 "nbformat": 4,
 "nbformat_minor": 5
}
